{
 "cells": [
  {
   "cell_type": "code",
   "execution_count": 1,
   "metadata": {},
   "outputs": [],
   "source": [
    "# Make Predictions, Find Patterns\n",
    "# Feed inputs, generate an algorithm to make predictions"
   ]
  },
  {
   "cell_type": "code",
   "execution_count": null,
   "metadata": {},
   "outputs": [],
   "source": [
    "# Supervised Learning:\n",
    "# Labeled Data / Labeled Outputs"
   ]
  },
  {
   "cell_type": "code",
   "execution_count": 78,
   "metadata": {},
   "outputs": [],
   "source": [
    "from sklearn.datasets import load_breast_cancer\n",
    "from sklearn.model_selection import train_test_split\n",
    "from sklearn.neighbors import KNeighborsClassifier\n",
    "from sklearn.linear_model import LogisticRegression\n",
    "from sklearn.svm import SVC\n",
    "from sklearn.metrics import accuracy_score, precision_score, recall_score, confusion_matrix\n",
    "import pandas as pd"
   ]
  },
  {
   "cell_type": "code",
   "execution_count": 8,
   "metadata": {},
   "outputs": [
    {
     "name": "stdout",
     "output_type": "stream",
     "text": [
      "[[1.799e+01 1.038e+01 1.228e+02 ... 2.654e-01 4.601e-01 1.189e-01]\n",
      " [2.057e+01 1.777e+01 1.329e+02 ... 1.860e-01 2.750e-01 8.902e-02]\n",
      " [1.969e+01 2.125e+01 1.300e+02 ... 2.430e-01 3.613e-01 8.758e-02]\n",
      " ...\n",
      " [1.660e+01 2.808e+01 1.083e+02 ... 1.418e-01 2.218e-01 7.820e-02]\n",
      " [2.060e+01 2.933e+01 1.401e+02 ... 2.650e-01 4.087e-01 1.240e-01]\n",
      " [7.760e+00 2.454e+01 4.792e+01 ... 0.000e+00 2.871e-01 7.039e-02]]\n"
     ]
    }
   ],
   "source": [
    "data = load_breast_cancer()\n",
    "\n",
    "X = data.data\n",
    "y = data.target\n"
   ]
  },
  {
   "cell_type": "code",
   "execution_count": null,
   "metadata": {},
   "outputs": [],
   "source": []
  },
  {
   "cell_type": "code",
   "execution_count": 86,
   "metadata": {},
   "outputs": [
    {
     "name": "stdout",
     "output_type": "stream",
     "text": [
      "   mean radius  mean texture  mean perimeter  mean area  mean smoothness  \\\n",
      "0        17.99         10.38          122.80     1001.0          0.11840   \n",
      "1        20.57         17.77          132.90     1326.0          0.08474   \n",
      "2        19.69         21.25          130.00     1203.0          0.10960   \n",
      "3        11.42         20.38           77.58      386.1          0.14250   \n",
      "4        20.29         14.34          135.10     1297.0          0.10030   \n",
      "\n",
      "   mean compactness  mean concavity  mean concave points  mean symmetry  \\\n",
      "0           0.27760          0.3001              0.14710         0.2419   \n",
      "1           0.07864          0.0869              0.07017         0.1812   \n",
      "2           0.15990          0.1974              0.12790         0.2069   \n",
      "3           0.28390          0.2414              0.10520         0.2597   \n",
      "4           0.13280          0.1980              0.10430         0.1809   \n",
      "\n",
      "   mean fractal dimension  ...  worst texture  worst perimeter  worst area  \\\n",
      "0                 0.07871  ...          17.33           184.60      2019.0   \n",
      "1                 0.05667  ...          23.41           158.80      1956.0   \n",
      "2                 0.05999  ...          25.53           152.50      1709.0   \n",
      "3                 0.09744  ...          26.50            98.87       567.7   \n",
      "4                 0.05883  ...          16.67           152.20      1575.0   \n",
      "\n",
      "   worst smoothness  worst compactness  worst concavity  worst concave points  \\\n",
      "0            0.1622             0.6656           0.7119                0.2654   \n",
      "1            0.1238             0.1866           0.2416                0.1860   \n",
      "2            0.1444             0.4245           0.4504                0.2430   \n",
      "3            0.2098             0.8663           0.6869                0.2575   \n",
      "4            0.1374             0.2050           0.4000                0.1625   \n",
      "\n",
      "   worst symmetry  worst fractal dimension     target  \n",
      "0          0.4601                  0.11890  malignant  \n",
      "1          0.2750                  0.08902  malignant  \n",
      "2          0.3613                  0.08758  malignant  \n",
      "3          0.6638                  0.17300  malignant  \n",
      "4          0.2364                  0.07678  malignant  \n",
      "\n",
      "[5 rows x 31 columns]\n"
     ]
    }
   ],
   "source": [
    "df = pd.DataFrame(data.data, columns = data.feature_names)\n",
    "df['target'] = pd.Categorical.from_codes(y,data.target_names)\n",
    "print(df.head())"
   ]
  },
  {
   "cell_type": "code",
   "execution_count": 50,
   "metadata": {},
   "outputs": [
    {
     "name": "stdout",
     "output_type": "stream",
     "text": [
      "[9.876e+00 1.940e+01 6.395e+01 2.983e+02 1.005e-01 9.697e-02 6.154e-02\n",
      " 3.029e-02 1.945e-01 6.322e-02 1.803e-01 1.222e+00 1.528e+00 1.177e+01\n",
      " 9.058e-03 2.196e-02 3.029e-02 1.112e-02 1.609e-02 3.570e-03 1.076e+01\n",
      " 2.683e+01 7.222e+01 3.612e+02 1.559e-01 2.302e-01 2.644e-01 9.749e-02\n",
      " 2.622e-01 8.490e-02]\n"
     ]
    }
   ],
   "source": [
    "X_train, X_test, y_train, y_test = train_test_split(X,y, test_size=0.25, random_state=16)\n",
    "\n",
    "\n",
    "print(X_train[0])"
   ]
  },
  {
   "cell_type": "code",
   "execution_count": 76,
   "metadata": {},
   "outputs": [
    {
     "name": "stdout",
     "output_type": "stream",
     "text": [
      "0.9230769230769231\n",
      "0.9302325581395349\n",
      "0.9411764705882353\n",
      "[[52  6]\n",
      " [ 5 80]]\n"
     ]
    }
   ],
   "source": [
    "knn_model = KNeighborsClassifier(n_neighbors=5,weights='distance')\n",
    "knn_model.fit(X_train,y_train)\n",
    "knn_pred = knn_model.predict(X_test)\n",
    "# ->  (True Positives + True Negatives) / (True Positives + False Positives + Ture Negatives + False Negatives)\n",
    "accuracy = accuracy_score(y_test, knn_pred)\n",
    "# True Positives / (True Positives + False Positives) \n",
    "precision = precision_score(y_test, knn_pred)\n",
    "# True Positives / (True Positives + False Negatives)\n",
    "recall = recall_score(y_test, knn_pred)\n",
    "\n",
    "confusion = confusion_matrix(y_test,knn_pred)\n",
    "\n",
    "# What is accuracy? -> Percent of accurate predictions\n",
    "print(accuracy)\n",
    "print(precision)\n",
    "print(recall)\n",
    "print(confusion)"
   ]
  },
  {
   "cell_type": "code",
   "execution_count": 80,
   "metadata": {},
   "outputs": [
    {
     "name": "stdout",
     "output_type": "stream",
     "text": [
      "0.951048951048951\n",
      "0.9534883720930233\n",
      "0.9647058823529412\n",
      "[[54  4]\n",
      " [ 3 82]]\n"
     ]
    }
   ],
   "source": [
    "log_model = LogisticRegression(max_iter=3000)\n",
    "log_model.fit(X_train,y_train)\n",
    "log_pred = log_model.predict(X_test)\n",
    "# ->  (True Positives + True Negatives) / (True Positives + False Positives + Ture Negatives + False Negatives)\n",
    "accuracy = accuracy_score(y_test, log_pred)\n",
    "# True Positives / (True Positives + False Positives) \n",
    "precision = precision_score(y_test, log_pred)\n",
    "# True Positives / (True Positives + False Negatives)\n",
    "recall = recall_score(y_test, log_pred)\n",
    "\n",
    "confusion = confusion_matrix(y_test,log_pred)\n",
    "\n",
    "# What is accuracy? -> Percent of accurate predictions\n",
    "print(accuracy)\n",
    "print(precision)\n",
    "print(recall)\n",
    "print(confusion)"
   ]
  },
  {
   "cell_type": "code",
   "execution_count": 82,
   "metadata": {},
   "outputs": [
    {
     "name": "stdout",
     "output_type": "stream",
     "text": [
      "0.9090909090909091\n",
      "0.8829787234042553\n",
      "0.9764705882352941\n",
      "[[47 11]\n",
      " [ 2 83]]\n"
     ]
    }
   ],
   "source": [
    "svm_model = SVC(kernel='rbf')\n",
    "\n",
    "svm_model.fit(X_train,y_train)\n",
    "svm_pred = svm_model.predict(X_test)\n",
    "# ->  (True Positives + True Negatives) / (True Positives + False Positives + Ture Negatives + False Negatives)\n",
    "accuracy = accuracy_score(y_test, svm_pred)\n",
    "# True Positives / (True Positives + False Positives) \n",
    "precision = precision_score(y_test, svm_pred)\n",
    "# True Positives / (True Positives + False Negatives)\n",
    "recall = recall_score(y_test, svm_pred)\n",
    "\n",
    "confusion = confusion_matrix(y_test,svm_pred)\n",
    "\n",
    "# What is accuracy? -> Percent of accurate predictions\n",
    "print(accuracy)\n",
    "print(precision)\n",
    "print(recall)\n",
    "print(confusion)"
   ]
  },
  {
   "cell_type": "code",
   "execution_count": 87,
   "metadata": {},
   "outputs": [
    {
     "name": "stdout",
     "output_type": "stream",
     "text": [
      "[4.526 3.585 3.521 ... 0.923 0.847 0.894]\n"
     ]
    }
   ],
   "source": [
    "from sklearn.datasets import fetch_california_housing\n",
    "\n",
    "data = fetch_california_housing()\n",
    "\n",
    "\n",
    "print(data.target)"
   ]
  }
 ],
 "metadata": {
  "kernelspec": {
   "display_name": "Python 3",
   "language": "python",
   "name": "python3"
  },
  "language_info": {
   "codemirror_mode": {
    "name": "ipython",
    "version": 3
   },
   "file_extension": ".py",
   "mimetype": "text/x-python",
   "name": "python",
   "nbconvert_exporter": "python",
   "pygments_lexer": "ipython3",
   "version": "3.11.3"
  }
 },
 "nbformat": 4,
 "nbformat_minor": 2
}
